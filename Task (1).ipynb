{
 "cells": [
  {
   "cell_type": "markdown",
   "id": "3960308d-236b-454d-b4de-021984b7c6bc",
   "metadata": {},
   "source": [
    "# 🐍 Python"
   ]
  },
  {
   "cell_type": "markdown",
   "id": "4dd01bd1-96c4-4462-8841-020b7d8a7514",
   "metadata": {},
   "source": [
    "## Task 1: \n",
    "\n",
    "Calculate the value of the summation 30+31+32+⋯+38, and then print the result."
   ]
  },
  {
   "cell_type": "code",
   "execution_count": 10,
   "id": "46197388-2c1b-4c4d-a4ae-1677e034486b",
   "metadata": {},
   "outputs": [
    {
     "name": "stdout",
     "output_type": "stream",
     "text": [
      " the summation 30+31+32+⋯+38 is = 306.0 306\n"
     ]
    }
   ],
   "source": [
    "x=(30*9)+(8*9/2)\n",
    "sumation=0\n",
    "for i in range(9):\n",
    "    sumation +=(i+30)\n",
    "print(\" the summation 30+31+32+⋯+38 is =\",x,sumation)"
   ]
  },
  {
   "cell_type": "markdown",
   "id": "2ac982d9-eb43-40d4-835b-669b5f8db52e",
   "metadata": {},
   "source": [
    "## Task 2\n",
    "Randomly pick number(s) between 0 and 9 until hitting 3, and then print the number of attempt(s).We can use randrange function from random module for randomly picking a number in the given range."
   ]
  },
  {
   "cell_type": "code",
   "execution_count": 25,
   "id": "d0e64e65-554c-4537-9c3b-9dbbf7fa1ed1",
   "metadata": {},
   "outputs": [
    {
     "name": "stdout",
     "output_type": "stream",
     "text": [
      "0\n",
      "5\n",
      "8\n",
      "1\n",
      "8\n",
      "2\n",
      "0\n",
      "6\n",
      "1\n",
      "9\n",
      "9\n",
      "2\n",
      "1\n",
      "4\n",
      "5\n",
      "9\n",
      "7\n",
      "1\n",
      "9\n",
      "2\n",
      "4\n",
      "7\n",
      "0\n",
      "3\n",
      "the count of attemp is = 24\n"
     ]
    }
   ],
   "source": [
    " # this is the code for including function randrange into our program \n",
    "from random import randrange\n",
    "# randrange(n) picks a number from the list [0,1,2,...,n-1] randomly\n",
    "#r = randrange(100)\n",
    "#print(r)\n",
    "r = randrange(10) #where 10 doent include so choise 10\n",
    "print(r)\n",
    "attemp=1\n",
    "while(r!=3):\n",
    "    attemp+=1\n",
    "    r = randrange(10)\n",
    "    print(r)\n",
    "#\n",
    "# your solution is here\n",
    "#\n",
    "print(\"the count of attemp is =\",attemp)"
   ]
  },
  {
   "cell_type": "markdown",
   "id": "94d162ed-3651-4763-874d-6fecf822f808",
   "metadata": {},
   "source": [
    "## Task 3\n",
    "\n",
    "usage of double nested loops: one loop inside of the other loop.In the second task above, the expected number of attempt(s) to hit number 3 is 10. Do a series of experiments by using your solution for Task 2.\n",
    "\n",
    "Experiment 1: Execute your solution 20 times, and then calculate the average attempts.\n",
    "\n",
    "Experiment 2: Execute your solution 200 times, and then calculate the average attempts.\n",
    "\n",
    "Experiment 3: Execute your solution 2000 times, and then calculate the average attempts.\n",
    "\n",
    "Experiment 4: Execute your solution 20000 times, and then calculate the average attempts.\n",
    "\n",
    "Experiment 5: Execute your solution 200000 times, and then calculate the average attempts.\n",
    "\n",
    "Your experimental average should get closer to 10 when the number of executions is increase d.Remark that all five experiments may also be automatically done by using triple loops."
   ]
  },
  {
   "cell_type": "code",
   "execution_count": 26,
   "id": "55753fbc-096f-44a6-ae6b-be7cb75b4df4",
   "metadata": {},
   "outputs": [
    {
     "name": "stdout",
     "output_type": "stream",
     "text": [
      "Experiment 1 : the average attempts= 7.1\n",
      "Experiment 2 : the average attempts= 9.535\n",
      "Experiment 3 : the average attempts= 10.019\n",
      "Experiment 4 : the average attempts= 10.027\n",
      "Experiment 5 : the average attempts= 9.980035\n"
     ]
    }
   ],
   "source": [
    " # here is a schematic example for double nested loops\n",
    "#for i in range(10):\n",
    "#    your_code1\n",
    "#    your_code2\n",
    "#    while j != 7:\n",
    "#        your_code_3\n",
    "#        your_code_4\n",
    "\n",
    "#\n",
    "# your solution is here\n",
    "#\n",
    "times = [20, 200, 2000, 20000, 200000]\n",
    "for i in range(len(times)):\n",
    "    num_trials = times[i]\n",
    "    total_attempts = 0\n",
    "    for trial in range(num_trials):\n",
    "        r = randrange(10)\n",
    "        attempt = 1\n",
    "        while r != 3:\n",
    "            r = randrange(10)\n",
    "            attempt += 1\n",
    "        total_attempts += attempt\n",
    "\n",
    "    avg_att = total_attempts / num_trials\n",
    "    print(\"Experiment\",i+1,\": the average attempts=\",avg_att)\n"
   ]
  },
  {
   "cell_type": "markdown",
   "id": "6744589b-0379-46a0-a3ac-4f1ba3ecd502",
   "metadata": {},
   "source": [
    "# ⚛️ Quantum Circuit"
   ]
  },
  {
   "cell_type": "markdown",
   "id": "f3c4ba25-e7e3-40fe-9a34-164c5b75fc15",
   "metadata": {},
   "source": [
    "## Task 1: Randomly picking an 8-bit binary number \n",
    "\n",
    "Design a quantum circuit with 8 quantum bits and 8 classical bits.For each quantum bit, flip a coin by python, and apply x-gate if the outcome is head.Measure your quantum bits.Execute your circuit 10 times.Repeat this task as much as you want, and enjoy your random choices."
   ]
  },
  {
   "cell_type": "code",
   "execution_count": 35,
   "id": "01f35a0a-ba0a-4ab3-aec1-bab442764773",
   "metadata": {},
   "outputs": [
    {
     "name": "stdout",
     "output_type": "stream",
     "text": [
      "circuts measure finshed\n",
      "{'00001010': 1024}\n"
     ]
    }
   ],
   "source": [
    "from qiskit import QuantumRegister, ClassicalRegister, QuantumCircuit\n",
    "from qiskit_aer import AerSimulator, StatevectorSimulator, UnitarySimulator\n",
    "import random \n",
    "qreg = QuantumRegister(8)\n",
    "creg = ClassicalRegister(8)\n",
    "circuit = QuantumCircuit(qreg, creg)\n",
    "for i in range(8):\n",
    "    coin = random.choice(['head', 'tail'])\n",
    "    if coin == 'head':\n",
    "        circuit.x(i)  #and apply x-gate if the outcome is head\n",
    "for i in range(8):\n",
    "    circuit.measure(qreg[i], creg[i])\n",
    "print(\"circuts measure finshed\")\n",
    "#circuit.draw(output='mpl')\n",
    "\n",
    "\n",
    "job =  AerSimulator().run(circuit, shots=1024)\n",
    "result = job.result()\n",
    "\n",
    "counts = result.get_counts(circuit)\n",
    "print(counts)"
   ]
  },
  {
   "cell_type": "markdown",
   "id": "0c6c57aa-80a8-4392-a7f6-967fd9c7da22",
   "metadata": {},
   "source": [
    "## Task 2: Superposition \n",
    "\n",
    "Remember that x-gate flips the value of a qubit.\n",
    "\n",
    "Design a quantum circuit with a single qubit.\n",
    "The qubit is initially set to ∣0⟩.Set the value of qubit to ∣1⟩ by using x-gate.\n",
    "Experiment 1: Apply one Hadamard gate, make measurement, and execute your program 10000 times.\n",
    "Experiment 2: Apply two Hadamard gates, make measurement, and execute your program 10000 times.Compare your results."
   ]
  },
  {
   "cell_type": "code",
   "execution_count": 56,
   "id": "0329169c-3c28-4655-ac9b-3327d8bdc2da",
   "metadata": {},
   "outputs": [
    {
     "name": "stdout",
     "output_type": "stream",
     "text": [
      "circuts measure finshed\n",
      "for one h is = {'1': 494, '0': 530}\n",
      "For two H = {'1': 1024}\n"
     ]
    }
   ],
   "source": [
    "from qiskit import QuantumRegister, ClassicalRegister, QuantumCircuit\n",
    "from qiskit_aer import AerSimulator, StatevectorSimulator, UnitarySimulator\n",
    "qreg1 = QuantumRegister(1)\n",
    "creg1 = ClassicalRegister(1)\n",
    "circuit1 = QuantumCircuit(qreg1, creg1)\n",
    "circuit1.x(qreg1)\n",
    "circuit1.h(qreg1)\n",
    "circuit1.measure(qreg1, creg1)\n",
    "print(\"circuts measure finshed\")\n",
    "job =  AerSimulator().run(circuit1, shots=1024)\n",
    "result = job.result()\n",
    "counts = result.get_counts(circuit1)\n",
    "print(\"for one h is =\",counts)\n",
    "#####################\n",
    "qreg2 = QuantumRegister(1)\n",
    "creg2 = ClassicalRegister(1)\n",
    "circuit2 = QuantumCircuit(qreg2, creg2)\n",
    "circuit2.x(qreg2)      \n",
    "circuit2.h(qreg2)   \n",
    "circuit2.h(qreg2)     \n",
    "circuit2.measure(qreg2, creg2)\n",
    "\n",
    "# # Run experiment 2\n",
    "job2 =  AerSimulator().run(circuit2, shots=1024)\n",
    "result2 = job2.result()\n",
    "counts2 = result2.get_counts(circuit2)\n",
    "print(\"For two H =\", counts2)"
   ]
  },
  {
   "cell_type": "markdown",
   "id": "001682b4-bf63-40b1-8f65-ccc043899ad9",
   "metadata": {},
   "source": [
    "## Task 3\n",
    "\n",
    "Start in state ∣1⟩.\n",
    "Apply a Hadamard gate.\n",
    "Make a measurement. If the measurement outcome is 0, stop.Otherwise, apply a second Hadamard, and then make a measurement.\n",
    "Execute your circuit 1000 times.Calculate the expected values of observing '0' and '1', and then compare your result with the simulator result."
   ]
  },
  {
   "cell_type": "code",
   "execution_count": 1,
   "id": "bac347f7-55e6-40f2-a414-e2d8d1cf47c6",
   "metadata": {},
   "outputs": [
    {
     "name": "stdout",
     "output_type": "stream",
     "text": [
      "circuts measure finshed\n",
      "for one h is = {'0': 512, '1': 488}\n"
     ]
    }
   ],
   "source": [
    "# import all necessary objects and methods for quantum circuits\n",
    "from qiskit import QuantumRegister, ClassicalRegister, QuantumCircuit\n",
    "from qiskit_aer import AerSimulator, StatevectorSimulator, UnitarySimulator\n",
    "qreg3 = QuantumRegister(1)\n",
    "creg3 = ClassicalRegister(1)\n",
    "circuit3 = QuantumCircuit(qreg3, creg3)\n",
    "circuit3.x(qreg3)\n",
    "circuit3.h(qreg3)\n",
    "circuit3.measure(qreg3, creg3)\n",
    "print(\"circuts measure finshed\")\n",
    "job3 =  AerSimulator().run(circuit3, shots=1000)\n",
    "result3 = job3.result()\n",
    "counts = result3.get_counts(circuit3)\n",
    "print(\"for one h is =\",counts)"
   ]
  },
  {
   "cell_type": "markdown",
   "id": "2efe68b0-64aa-415e-949d-5ca415bf1512",
   "metadata": {},
   "source": [
    "## Task 4: Two Qubit system\n",
    "Verify the vector representations of ∣00⟩,∣01⟩,∣10⟩,∣11⟩:"
   ]
  },
  {
   "cell_type": "markdown",
   "id": "70cbe568-f880-4a7e-818f-20a532723113",
   "metadata": {},
   "source": [
    "## Task 4: Two Qubit system\n",
    "Verify the vector representations of ∣00⟩,∣01⟩,∣10⟩,∣11⟩:"
   ]
  },
  {
   "cell_type": "code",
   "execution_count": 6,
   "id": "fe92ed27-34b5-40f9-98c4-5ddbc7bbce22",
   "metadata": {},
   "outputs": [
    {
     "name": "stdout",
     "output_type": "stream",
     "text": [
      "State |00⟩:\n",
      "Statevector([1.+0.j, 0.+0.j, 0.+0.j, 0.+0.j],\n",
      "            dims=(2, 2))\n",
      "State |01⟩:\n",
      "Statevector([0.+0.j, 0.+0.j, 1.+0.j, 0.+0.j],\n",
      "            dims=(2, 2))\n",
      "State |10⟩:\n",
      "Statevector([0.+0.j, 1.+0.j, 0.+0.j, 0.+0.j],\n",
      "            dims=(2, 2))\n",
      "State |11⟩:\n",
      "Statevector([0.+0.j, 0.+0.j, 0.+0.j, 1.+0.j],\n",
      "            dims=(2, 2))\n"
     ]
    }
   ],
   "source": [
    "# Import tools from Qiskit\n",
    "from qiskit import QuantumCircuit\n",
    "from qiskit.quantum_info import Statevector\n",
    "\n",
    "# STATE |00⟩ — both qubits are 0\n",
    "qc_00 = QuantumCircuit(2)\n",
    "state_00 = Statevector.from_instruction(qc_00)\n",
    "print(\"State |00⟩:\")\n",
    "print(state_00.draw())\n",
    "\n",
    "# STATE |01⟩ — qubit 0 is 0, qubit 1 is 1\n",
    "qc_01 = QuantumCircuit(2)\n",
    "qc_01.x(1)  # Flip qubit 1 using X gate\n",
    "state_01 = Statevector.from_instruction(qc_01)\n",
    "print(\"State |01⟩:\")\n",
    "print(state_01.draw())\n",
    "\n",
    "# STATE |10⟩ — qubit 0 is 1, qubit 1 is 0\n",
    "qc_10 = QuantumCircuit(2)\n",
    "qc_10.x(0)  # Flip qubit 0 using X gate\n",
    "state_10 = Statevector.from_instruction(qc_10)\n",
    "print(\"State |10⟩:\")\n",
    "print(state_10.draw())\n",
    "\n",
    "# STATE |11⟩ — both qubits are 1\n",
    "qc_11 = QuantumCircuit(2)\n",
    "qc_11.x(0)\n",
    "qc_11.x(1)\n",
    "state_11 = Statevector.from_instruction(qc_11)\n",
    "print(\"State |11⟩:\")\n",
    "print(state_11.draw())\n"
   ]
  },
  {
   "cell_type": "markdown",
   "id": "a5c20369-48d4-4df1-9273-8a715a113cea",
   "metadata": {},
   "source": [
    "## Task 5: Applying and Verifying H ⊗ I\n",
    "\n",
    "We define a quantum circuit with two qubits: `q0` and `q1`.  \n",
    "In Qiskit, they are tensored as **q₁ ⊗ q₀** (meaning `q1` is the most significant qubit).\n",
    "\n",
    "We apply the Hadamard operator to `q1`.  \n",
    "This means the full operator applied to the system is **H ⊗ I**.\n",
    "\n",
    "```python\n",
    "from qiskit import QuantumCircuit\n",
    "\n",
    "qc = QuantumCircuit(2)\n",
    "qc.h(1)\n",
    "qc.draw(output='mpl', reverse_bits=True)\n"
   ]
  },
  {
   "cell_type": "code",
   "execution_count": 16,
   "id": "99972cc4-c598-47be-952c-655dc715baa0",
   "metadata": {},
   "outputs": [
    {
     "name": "stdout",
     "output_type": "stream",
     "text": [
      "Final quantum state:\n",
      "Statevector([ 0.70710678+0.j,  0.        +0.j,  0.70710678+0.j,\n",
      "             -0.        +0.j],\n",
      "            dims=(2, 2))\n"
     ]
    }
   ],
   "source": [
    "from qiskit import QuantumCircuit\n",
    "from qiskit.visualization import plot_bloch_multivector\n",
    "from qiskit.quantum_info import Statevector\n",
    "import matplotlib.pyplot as plt\n",
    "qc = QuantumCircuit(2)\n",
    "qc.h(1)\n",
    "state = Statevector.from_instruction(qc)\n",
    "\n",
    "print(\"Final quantum state:\")\n",
    "print(state)\n",
    "\n"
   ]
  },
  {
   "cell_type": "code",
   "execution_count": 14,
   "id": "4aa50d09-9c7b-4761-acf6-6ab522aa38d3",
   "metadata": {},
   "outputs": [
    {
     "data": {
      "image/png": "[encoded data removed]",
      "text/plain": [
       "<Figure size 203.683x200.667 with 1 Axes>"
      ]
     },
     "execution_count": 14,
     "metadata": {},
     "output_type": "execute_result"
    }
   ],
   "source": [
    "qc.draw(output='mpl')\n"
   ]
  },
  {
   "cell_type": "markdown",
   "id": "029b53e8-5ef1-4f27-9a8a-adabc4349e2b",
   "metadata": {},
   "source": [
    "# 🧪 Application--> Entanglement "
   ]
  },
  {
   "cell_type": "markdown",
   "id": "3b0ff83f-70de-4bf4-8a20-a07edcaae6de",
   "metadata": {},
   "source": [
    "## Task 1: Superdense coding\n",
    "\n",
    "Verify the correctness of the superdense protocol.For each pair of (a,b)∈{(0,0),(0,1),(1,0),(1,1)}:\n",
    "Create a quantum circuit with two qubits: Alice's and Bob's qubits\n",
    "Both are initially set to ∣0⟩\n",
    "Apply h-gate (Hadamard) to Asja's qubit\n",
    "Apply cx-gate as CNOT(Alice's-qubit,Bob's-qubit)\n",
    "Assume that both qubits are separated from each other.\n",
    "     If $ a $ is 1, then apply a z-gate to Alice's qubit. \n",
    "     If $ b $ is 1, then apply x-gate (NOT) to Asja's qubit. \n",
    "\n",
    "\n",
    "Assume that Asja sends her qubit to Balvis.\n",
    "Apply cx-gate as CNOT(Asja's-qubit,Balvis'-qubit)\n",
    "Apply h-gate (Hadamard) to Asja's qubitMeasure both qubits and compare the results with pair (a,b)"
   ]
  },
  {
   "cell_type": "code",
   "execution_count": 8,
   "id": "fe54889e-9578-454c-8c15-19b9e9924ebe",
   "metadata": {},
   "outputs": [
    {
     "data": {
      "image/png": "[encoded data removed]",
      "text/plain": [
       "<Figure size 788.961x367.889 with 1 Axes>"
      ]
     },
     "metadata": {},
     "output_type": "display_data"
    },
    {
     "name": "stdout",
     "output_type": "stream",
     "text": [
      "00 --> {'00': 50}\n"
     ]
    },
    {
     "data": {
      "image/png": "[encoded data removed]",
      "text/plain": [
       "<Figure size 872.572x367.889 with 1 Axes>"
      ]
     },
     "metadata": {},
     "output_type": "display_data"
    },
    {
     "name": "stdout",
     "output_type": "stream",
     "text": [
      "01 --> {'10': 50}\n"
     ]
    },
    {
     "data": {
      "image/png": "[encoded data removed]",
      "text/plain": [
       "<Figure size 872.572x367.889 with 1 Axes>"
      ]
     },
     "metadata": {},
     "output_type": "display_data"
    },
    {
     "name": "stdout",
     "output_type": "stream",
     "text": [
      "10 --> {'01': 50}\n"
     ]
    },
    {
     "data": {
      "image/png": "[encoded data removed]",
      "text/plain": [
       "<Figure size 956.183x367.889 with 1 Axes>"
      ]
     },
     "metadata": {},
     "output_type": "display_data"
    },
    {
     "name": "stdout",
     "output_type": "stream",
     "text": [
      "11 --> {'11': 50}\n"
     ]
    }
   ],
   "source": [
    "from qiskit import QuantumRegister, ClassicalRegister, QuantumCircuit\n",
    "from qiskit_aer import AerSimulator\n",
    "from qiskit.visualization import plot_histogram\n",
    "import matplotlib.pyplot as plt\n",
    "\n",
    "all_pairs = ['00','01','10','11']\n",
    "\n",
    "for pair in all_pairs:\n",
    "    q = QuantumRegister(2, \"q\") \n",
    "    c = ClassicalRegister(2, \"c\")\n",
    "    qc = QuantumCircuit(q, c)\n",
    "\n",
    " \n",
    "    qc.h(q[0]) \n",
    "    qc.cx(q[0], q[1])\n",
    "\n",
    "\n",
    "    if pair[0] == '1':\n",
    "        qc.z(q[0]) \n",
    "    if pair[1] == '1':\n",
    "        qc.x(q[0])   \n",
    "# Alic sends her qubit to Bob\n",
    "    qc.barrier()\n",
    "    \n",
    "    qc.cx(q[0], q[1])    \n",
    "    qc.h(q[0]) \n",
    "\n",
    "    # measure both qubits\n",
    "    qc.barrier()\n",
    "    qc.measure(q,c)\n",
    "    \n",
    "    # draw the circuit in Qiskit's reading order\n",
    "    display(qc.draw(output='mpl',reverse_bits=True))\n",
    "    \n",
    "    # compare the results with pair (a,b)\n",
    "    job = AerSimulator().run(qc,shots=50)\n",
    "    counts = job.result().get_counts(qc)\n",
    "    print(pair,\"-->\",counts)\n"
   ]
  },
  {
   "cell_type": "code",
   "execution_count": null,
   "id": "61a8949a-fe21-44cc-8f26-0e1da6784518",
   "metadata": {},
   "outputs": [],
   "source": []
  }
 ],
 "metadata": {
  "kernelspec": {
   "display_name": "Python 3 [Qiskit]",
   "language": "python",
   "name": "python3_qiskit_i5o7if"
  },
  "language_info": {
   "codemirror_mode": {
    "name": "ipython",
    "version": 3
   },
   "file_extension": ".py",
   "mimetype": "text/x-python",
   "name": "python",
   "nbconvert_exporter": "python",
   "pygments_lexer": "ipython3",
   "version": "3.9.22"
  }
 },
 "nbformat": 4,
 "nbformat_minor": 5
}
